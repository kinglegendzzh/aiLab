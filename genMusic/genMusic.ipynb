{
 "cells": [
  {
   "cell_type": "markdown",
   "id": "91b89755-ced6-43bf-9ad2-9c2447d3fa75",
   "metadata": {},
   "source": [
    "#genMusicLab"
   ]
  },
  {
   "cell_type": "code",
   "execution_count": 1,
   "id": "ba520d4e-b2d8-430e-98a6-f8506fdc9e0f",
   "metadata": {},
   "outputs": [
    {
     "name": "stdout",
     "output_type": "stream",
     "text": [
      "test jupyter\n"
     ]
    }
   ],
   "source": [
    "#genMusic Lab\n",
    "\n",
    "import os\n",
    "\n",
    "print('test jupyter')"
   ]
  }
 ],
 "metadata": {
  "kernelspec": {
   "display_name": "Python 3 (ipykernel)",
   "language": "python",
   "name": "python3"
  },
  "language_info": {
   "codemirror_mode": {
    "name": "ipython",
    "version": 3
   },
   "file_extension": ".py",
   "mimetype": "text/x-python",
   "name": "python",
   "nbconvert_exporter": "python",
   "pygments_lexer": "ipython3",
   "version": "3.11.7"
  }
 },
 "nbformat": 4,
 "nbformat_minor": 5
}
